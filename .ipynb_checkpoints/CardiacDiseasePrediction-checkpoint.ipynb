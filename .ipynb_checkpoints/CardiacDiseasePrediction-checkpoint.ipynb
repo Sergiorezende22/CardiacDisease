{
 "cells": [
  {
   "cell_type": "markdown",
   "metadata": {},
   "source": [
    "# _PREDICTIONS HEART DISEASE DATA SET_\n",
    "\n",
    "<hr style=\"height:2px;\">\n",
    "\n",
    "[Official Link to the Data Set](https://archive.ics.uci.edu/ml/datasets/Heart+Disease)\n",
    "\n",
    "<br>"
   ]
  },
  {
   "cell_type": "markdown",
   "metadata": {},
   "source": [
    "## Sumary\n",
    "- [Preparing the ambient](#Preparing-the-ambient)"
   ]
  },
  {
   "cell_type": "markdown",
   "metadata": {},
   "source": [
    "<hr>\n",
    "\n",
    "## _Preparing the ambient_\n",
    "\n",
    "First, we need prepare the packages that we will use.\n",
    "The packages are \"DataFrames\", \"Plots\", \"MLJ\", \"MLJLinearModels\"."
   ]
  },
  {
   "cell_type": "code",
   "execution_count": null,
   "metadata": {},
   "outputs": [],
   "source": []
  }
 ],
 "metadata": {
  "kernelspec": {
   "display_name": "Python 3",
   "language": "python",
   "name": "python3"
  },
  "language_info": {
   "codemirror_mode": {
    "name": "ipython",
    "version": 3
   },
   "file_extension": ".py",
   "mimetype": "text/x-python",
   "name": "python",
   "nbconvert_exporter": "python",
   "pygments_lexer": "ipython3",
   "version": "3.8.3"
  }
 },
 "nbformat": 4,
 "nbformat_minor": 4
}
