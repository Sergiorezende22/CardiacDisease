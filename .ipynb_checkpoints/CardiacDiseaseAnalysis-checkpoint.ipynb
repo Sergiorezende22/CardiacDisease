{
 "cells": [
  {
   "cell_type": "markdown",
   "metadata": {},
   "source": [
    "# _ANALYSIS HEART DISEASE DATA SET_\n",
    "\n",
    "<hr style=\"height:2px;\">\n",
    "\n",
    "[Official Link to the Data Set](https://archive.ics.uci.edu/ml/datasets/Heart+Disease)\n",
    "\n",
    "<br>"
   ]
  },
  {
   "cell_type": "markdown",
   "metadata": {},
   "source": [
    "## Sumary\n",
    "- [Preparing the ambient](#Preparing-the-ambient)\n",
    "- [Getting the Data Set](#Getting-the-Data-Set)\n",
    "    - [Missing values](#Missing-values)\n",
    "    - [Describing Data Set](#Describing-Data-Set)\n",
    "- [Categorical Data](#Categorical-Data)\n",
    "    - [Target](#Target)\n",
    "- [Numerical Data](#Numerical-Data)\n",
    "    - [Distributions](#Distributions)\n",
    "- [Correlation Matrix](#Correlation-Matrix)\n",
    "    - [One-Hot Encoding](#One-Hot-Encoding)"
   ]
  },
  {
   "cell_type": "markdown",
   "metadata": {},
   "source": [
    "<hr>\n",
    "\n",
    "## _Preparing the ambient_\n",
    "\n",
    "First, we need prepare the packages that we will use.\n",
    "The packages are \"DataFrames\", \"CSV\", \"Plots\", \"StatsPlots\", \"Statistics\"."
   ]
  },
  {
   "cell_type": "code",
   "execution_count": 19,
   "metadata": {},
   "outputs": [],
   "source": [
    "using DataFrames, CSV, Plots, StatsPlots, Statistics"
   ]
  },
  {
   "cell_type": "markdown",
   "metadata": {},
   "source": [
    "If some of the packages is not instaled in your computer just use:\n",
    "```julia\n",
    "    using Pkg;\n",
    "    Pkg.add(\"PackageName\");\n",
    "```   \n",
    "<br>\n",
    "\n",
    "[Back to the top](#Sumary)"
   ]
  },
  {
   "cell_type": "markdown",
   "metadata": {},
   "source": [
    "<hr>\n",
    "\n",
    "## _Getting the Data Set_\n",
    "We need to first import the data set into our program."
   ]
  },
  {
   "cell_type": "code",
   "execution_count": 20,
   "metadata": {},
   "outputs": [
    {
     "name": "stdout",
     "output_type": "stream",
     "text": [
      "10×14 DataFrame\n",
      "│ Row │ age     │ sex   │ cp    │ trestbps │ chol    │ fbs     │ restecg │\n",
      "│     │ \u001b[90mFloat64\u001b[39m │ \u001b[90mInt64\u001b[39m │ \u001b[90mInt64\u001b[39m │ \u001b[90mFloat64\u001b[39m  │ \u001b[90mFloat64\u001b[39m │ \u001b[90mFloat64\u001b[39m │ \u001b[90mInt64\u001b[39m   │\n",
      "├─────┼─────────┼───────┼───────┼──────────┼─────────┼─────────┼─────────┤\n",
      "│ 1   │ 67.0    │ 1     │ 4     │ 160.0    │ 286.0   │ 0.0     │ 2       │\n",
      "│ 2   │ 67.0    │ 1     │ 4     │ 120.0    │ 229.0   │ 0.0     │ 2       │\n",
      "│ 3   │ 37.0    │ 1     │ 3     │ 130.0    │ 250.0   │ 0.0     │ 0       │\n",
      "│ 4   │ 41.0    │ 0     │ 2     │ 130.0    │ 204.0   │ 0.0     │ 2       │\n",
      "│ 5   │ 56.0    │ 1     │ 2     │ 120.0    │ 236.0   │ 0.0     │ 0       │\n",
      "│ 6   │ 62.0    │ 0     │ 4     │ 140.0    │ 268.0   │ 0.0     │ 2       │\n",
      "│ 7   │ 57.0    │ 0     │ 4     │ 120.0    │ 354.0   │ 0.0     │ 0       │\n",
      "│ 8   │ 63.0    │ 1     │ 4     │ 130.0    │ 254.0   │ 0.0     │ 2       │\n",
      "│ 9   │ 53.0    │ 1     │ 4     │ 140.0    │ 203.0   │ 1.0     │ 2       │\n",
      "│ 10  │ 57.0    │ 1     │ 4     │ 140.0    │ 192.0   │ 0.0     │ 0       │\n",
      "\n",
      "│ Row │ thalach │ exang │ oldpeak │ slope │ ca     │ thal   │ target │\n",
      "│     │ \u001b[90mFloat64\u001b[39m │ \u001b[90mInt64\u001b[39m │ \u001b[90mFloat64\u001b[39m │ \u001b[90mInt64\u001b[39m │ \u001b[90mString\u001b[39m │ \u001b[90mString\u001b[39m │ \u001b[90mInt64\u001b[39m  │\n",
      "├─────┼─────────┼───────┼─────────┼───────┼────────┼────────┼────────┤\n",
      "│ 1   │ 108.0   │ 1     │ 1.5     │ 2     │ 3.0    │ 3.0    │ 2      │\n",
      "│ 2   │ 129.0   │ 1     │ 2.6     │ 2     │ 2.0    │ 7.0    │ 1      │\n",
      "│ 3   │ 187.0   │ 0     │ 3.5     │ 3     │ 0.0    │ 3.0    │ 0      │\n",
      "│ 4   │ 172.0   │ 0     │ 1.4     │ 1     │ 0.0    │ 3.0    │ 0      │\n",
      "│ 5   │ 178.0   │ 0     │ 0.8     │ 1     │ 0.0    │ 3.0    │ 0      │\n",
      "│ 6   │ 160.0   │ 0     │ 3.6     │ 3     │ 2.0    │ 3.0    │ 3      │\n",
      "│ 7   │ 163.0   │ 1     │ 0.6     │ 1     │ 0.0    │ 3.0    │ 0      │\n",
      "│ 8   │ 147.0   │ 0     │ 1.4     │ 2     │ 1.0    │ 7.0    │ 2      │\n",
      "│ 9   │ 155.0   │ 1     │ 3.1     │ 3     │ 0.0    │ 7.0    │ 1      │\n",
      "│ 10  │ 148.0   │ 0     │ 0.4     │ 2     │ 0.0    │ 6.0    │ 0      │"
     ]
    }
   ],
   "source": [
    "# Including file of functions\n",
    "include(\"Functions/ImportDataSet.jl\"); \n",
    "\n",
    "# Getting the data set\n",
    "df = GetDataSet(\"Data/processed.cleveland.data\"); # Function defined in ImportDataSet.jl\n",
    "\n",
    "# Showing the 10 firsts rows of data set\n",
    "show(first(df, 10), allcols = true); # Functions defined in DataFrames Pkg"
   ]
  },
  {
   "cell_type": "markdown",
   "metadata": {},
   "source": [
    "### Missing values\n",
    "While looking at the data set we observed some missing values, this occur when no data was stored for that variable in that observation."
   ]
  },
  {
   "cell_type": "code",
   "execution_count": 21,
   "metadata": {},
   "outputs": [
    {
     "name": "stdout",
     "output_type": "stream",
     "text": [
      "6×14 DataFrame\n",
      "│ Row │ age     │ sex   │ cp    │ trestbps │ chol    │ fbs     │ restecg │\n",
      "│     │ \u001b[90mFloat64\u001b[39m │ \u001b[90mInt64\u001b[39m │ \u001b[90mInt64\u001b[39m │ \u001b[90mFloat64\u001b[39m  │ \u001b[90mFloat64\u001b[39m │ \u001b[90mFloat64\u001b[39m │ \u001b[90mInt64\u001b[39m   │\n",
      "├─────┼─────────┼───────┼───────┼──────────┼─────────┼─────────┼─────────┤\n",
      "│ 1   │ 53.0    │ 0     │ 3     │ 128.0    │ 216.0   │ 0.0     │ 2       │\n",
      "│ 2   │ 52.0    │ 1     │ 3     │ 138.0    │ 223.0   │ 0.0     │ 0       │\n",
      "│ 3   │ 43.0    │ 1     │ 4     │ 132.0    │ 247.0   │ 1.0     │ 2       │\n",
      "│ 4   │ 52.0    │ 1     │ 4     │ 128.0    │ 204.0   │ 1.0     │ 0       │\n",
      "│ 5   │ 58.0    │ 1     │ 2     │ 125.0    │ 220.0   │ 0.0     │ 0       │\n",
      "│ 6   │ 38.0    │ 1     │ 3     │ 138.0    │ 175.0   │ 0.0     │ 0       │\n",
      "\n",
      "│ Row │ thalach │ exang │ oldpeak │ slope │ ca     │ thal   │ target │\n",
      "│     │ \u001b[90mFloat64\u001b[39m │ \u001b[90mInt64\u001b[39m │ \u001b[90mFloat64\u001b[39m │ \u001b[90mInt64\u001b[39m │ \u001b[90mString\u001b[39m │ \u001b[90mString\u001b[39m │ \u001b[90mInt64\u001b[39m  │\n",
      "├─────┼─────────┼───────┼─────────┼───────┼────────┼────────┼────────┤\n",
      "│ 1   │ 115.0   │ 0     │ 0.0     │ 1     │ 0.0    │ ?      │ 0      │\n",
      "│ 2   │ 169.0   │ 0     │ 0.0     │ 1     │ ?      │ 3.0    │ 0      │\n",
      "│ 3   │ 143.0   │ 1     │ 0.1     │ 2     │ ?      │ 7.0    │ 1      │\n",
      "│ 4   │ 156.0   │ 1     │ 1.0     │ 2     │ 0.0    │ ?      │ 2      │\n",
      "│ 5   │ 144.0   │ 0     │ 0.4     │ 2     │ ?      │ 7.0    │ 0      │\n",
      "│ 6   │ 173.0   │ 0     │ 0.0     │ 1     │ ?      │ 3.0    │ 0      │"
     ]
    }
   ],
   "source": [
    "# Filtering only the missing values\n",
    "missing = filter(row -> row.ca == \"?\" || row.thal == \"?\", df); # Function defined in DataFrames Pkg\n",
    "\n",
    "# Showing the rows from the missing values\n",
    "show(missing, allcols = true);"
   ]
  },
  {
   "cell_type": "markdown",
   "metadata": {},
   "source": [
    "- How did we deal with it?\n",
    "\n",
    "There were only 6 missing values and because it is a really small part of the total(1.9%), we just remove it."
   ]
  },
  {
   "cell_type": "code",
   "execution_count": 22,
   "metadata": {},
   "outputs": [
    {
     "name": "stdout",
     "output_type": "stream",
     "text": [
      "Number of rows with missing: 302\n",
      "Number of rows without missing: 296\n"
     ]
    }
   ],
   "source": [
    "# Including file of functions\n",
    "include(\"Functions/MissingValues.jl\");\n",
    "\n",
    "println(\"Number of rows with missing: $(size(df)[1])\");\n",
    "\n",
    "# Removing missing values com dataframe\n",
    "df = RemoveMissing(df); # Function defined in MissingValues.jl\n",
    "\n",
    "println(\"Number of rows without missing: $(size(df)[1])\");"
   ]
  },
  {
   "cell_type": "markdown",
   "metadata": {},
   "source": [
    "### Describing Data Set\n",
    "\n",
    "Next, we are going to describe the data set, that is, get the mean, max and min value, median and other stuff from each property."
   ]
  },
  {
   "cell_type": "code",
   "execution_count": 23,
   "metadata": {},
   "outputs": [
    {
     "data": {
      "text/html": [
       "<table class=\"data-frame\"><thead><tr><th></th><th>variable</th><th>mean</th><th>min</th><th>median</th><th>max</th><th>nunique</th><th>nmissing</th><th>eltype</th></tr><tr><th></th><th>Symbol</th><th>Float64</th><th>Real</th><th>Float64</th><th>Real</th><th>Nothing</th><th>Nothing</th><th>DataType</th></tr></thead><tbody><p>14 rows × 8 columns</p><tr><th>1</th><td>age</td><td>54.5135</td><td>29.0</td><td>56.0</td><td>77.0</td><td></td><td></td><td>Float64</td></tr><tr><th>2</th><td>sex</td><td>0.675676</td><td>0</td><td>1.0</td><td>1</td><td></td><td></td><td>Int64</td></tr><tr><th>3</th><td>cp</td><td>3.16554</td><td>1</td><td>3.0</td><td>4</td><td></td><td></td><td>Int64</td></tr><tr><th>4</th><td>trestbps</td><td>131.649</td><td>94.0</td><td>130.0</td><td>200.0</td><td></td><td></td><td>Float64</td></tr><tr><th>5</th><td>chol</td><td>247.399</td><td>126.0</td><td>243.0</td><td>564.0</td><td></td><td></td><td>Float64</td></tr><tr><th>6</th><td>fbs</td><td>0.141892</td><td>0.0</td><td>0.0</td><td>1.0</td><td></td><td></td><td>Float64</td></tr><tr><th>7</th><td>restecg</td><td>0.993243</td><td>0</td><td>1.0</td><td>2</td><td></td><td></td><td>Int64</td></tr><tr><th>8</th><td>thalach</td><td>149.598</td><td>71.0</td><td>153.0</td><td>202.0</td><td></td><td></td><td>Float64</td></tr><tr><th>9</th><td>exang</td><td>0.327703</td><td>0</td><td>0.0</td><td>1</td><td></td><td></td><td>Int64</td></tr><tr><th>10</th><td>oldpeak</td><td>1.05135</td><td>0.0</td><td>0.8</td><td>6.2</td><td></td><td></td><td>Float64</td></tr><tr><th>11</th><td>slope</td><td>1.59797</td><td>1</td><td>2.0</td><td>3</td><td></td><td></td><td>Int64</td></tr><tr><th>12</th><td>ca</td><td>0.679054</td><td>0</td><td>0.0</td><td>3</td><td></td><td></td><td>Int64</td></tr><tr><th>13</th><td>thal</td><td>4.72635</td><td>3</td><td>3.0</td><td>7</td><td></td><td></td><td>Int64</td></tr><tr><th>14</th><td>target</td><td>0.949324</td><td>0</td><td>0.0</td><td>4</td><td></td><td></td><td>Int64</td></tr></tbody></table>"
      ],
      "text/latex": [
       "\\begin{tabular}{r|cccccccc}\n",
       "\t& variable & mean & min & median & max & nunique & nmissing & eltype\\\\\n",
       "\t\\hline\n",
       "\t& Symbol & Float64 & Real & Float64 & Real & Nothing & Nothing & DataType\\\\\n",
       "\t\\hline\n",
       "\t1 & age & 54.5135 & 29.0 & 56.0 & 77.0 &  &  & Float64 \\\\\n",
       "\t2 & sex & 0.675676 & 0 & 1.0 & 1 &  &  & Int64 \\\\\n",
       "\t3 & cp & 3.16554 & 1 & 3.0 & 4 &  &  & Int64 \\\\\n",
       "\t4 & trestbps & 131.649 & 94.0 & 130.0 & 200.0 &  &  & Float64 \\\\\n",
       "\t5 & chol & 247.399 & 126.0 & 243.0 & 564.0 &  &  & Float64 \\\\\n",
       "\t6 & fbs & 0.141892 & 0.0 & 0.0 & 1.0 &  &  & Float64 \\\\\n",
       "\t7 & restecg & 0.993243 & 0 & 1.0 & 2 &  &  & Int64 \\\\\n",
       "\t8 & thalach & 149.598 & 71.0 & 153.0 & 202.0 &  &  & Float64 \\\\\n",
       "\t9 & exang & 0.327703 & 0 & 0.0 & 1 &  &  & Int64 \\\\\n",
       "\t10 & oldpeak & 1.05135 & 0.0 & 0.8 & 6.2 &  &  & Float64 \\\\\n",
       "\t11 & slope & 1.59797 & 1 & 2.0 & 3 &  &  & Int64 \\\\\n",
       "\t12 & ca & 0.679054 & 0 & 0.0 & 3 &  &  & Int64 \\\\\n",
       "\t13 & thal & 4.72635 & 3 & 3.0 & 7 &  &  & Int64 \\\\\n",
       "\t14 & target & 0.949324 & 0 & 0.0 & 4 &  &  & Int64 \\\\\n",
       "\\end{tabular}\n"
      ],
      "text/plain": [
       "14×8 DataFrame. Omitted printing of 1 columns\n",
       "│ Row │ variable │ mean     │ min   │ median  │ max   │ nunique │ nmissing │\n",
       "│     │ \u001b[90mSymbol\u001b[39m   │ \u001b[90mFloat64\u001b[39m  │ \u001b[90mReal\u001b[39m  │ \u001b[90mFloat64\u001b[39m │ \u001b[90mReal\u001b[39m  │ \u001b[90mNothing\u001b[39m │ \u001b[90mNothing\u001b[39m  │\n",
       "├─────┼──────────┼──────────┼───────┼─────────┼───────┼─────────┼──────────┤\n",
       "│ 1   │ age      │ 54.5135  │ 29.0  │ 56.0    │ 77.0  │         │          │\n",
       "│ 2   │ sex      │ 0.675676 │ 0     │ 1.0     │ 1     │         │          │\n",
       "│ 3   │ cp       │ 3.16554  │ 1     │ 3.0     │ 4     │         │          │\n",
       "│ 4   │ trestbps │ 131.649  │ 94.0  │ 130.0   │ 200.0 │         │          │\n",
       "│ 5   │ chol     │ 247.399  │ 126.0 │ 243.0   │ 564.0 │         │          │\n",
       "│ 6   │ fbs      │ 0.141892 │ 0.0   │ 0.0     │ 1.0   │         │          │\n",
       "│ 7   │ restecg  │ 0.993243 │ 0     │ 1.0     │ 2     │         │          │\n",
       "│ 8   │ thalach  │ 149.598  │ 71.0  │ 153.0   │ 202.0 │         │          │\n",
       "│ 9   │ exang    │ 0.327703 │ 0     │ 0.0     │ 1     │         │          │\n",
       "│ 10  │ oldpeak  │ 1.05135  │ 0.0   │ 0.8     │ 6.2   │         │          │\n",
       "│ 11  │ slope    │ 1.59797  │ 1     │ 2.0     │ 3     │         │          │\n",
       "│ 12  │ ca       │ 0.679054 │ 0     │ 0.0     │ 3     │         │          │\n",
       "│ 13  │ thal     │ 4.72635  │ 3     │ 3.0     │ 7     │         │          │\n",
       "│ 14  │ target   │ 0.949324 │ 0     │ 0.0     │ 4     │         │          │"
      ]
     },
     "execution_count": 23,
     "metadata": {},
     "output_type": "execute_result"
    }
   ],
   "source": [
    "describe(df) # Function defined in DataFrames Pkg"
   ]
  },
  {
   "cell_type": "markdown",
   "metadata": {},
   "source": [
    "<br>\n",
    "\n",
    "[Back to the top](#Sumary)"
   ]
  },
  {
   "cell_type": "markdown",
   "metadata": {},
   "source": [
    "<hr>\n",
    "\n",
    "## Categorical Data\n",
    "Now we are going to plot the graphs of all categorical attributer from the data set, so that we can take some information of it."
   ]
  },
  {
   "cell_type": "code",
   "execution_count": 44,
   "metadata": {},
   "outputs": [
    {
     "ename": "UndefVarError",
     "evalue": "UndefVarError: px not defined",
     "output_type": "error",
     "traceback": [
      "UndefVarError: px not defined",
      "",
      "Stacktrace:",
      " [1] top-level scope at In[44]:3"
     ]
    }
   ],
   "source": [
    "# Including file of functions\n",
    "include(\"Functions/CategoricalData.jl\");\n",
    "Plots.PGFPlotsXBackend()\n",
    "\n",
    "margin = 75px\n",
    "# Building individualy each plot\n",
    "# Sec\n",
    "sex = show_categorical(df.sex, [0, 1], [\"Women\", \"Men\"], \"Sex Proportion in Dataset\", legend = (1,0.5)); # Function defined \n",
    "                                                                                                         # in CategoricalData.jl\n",
    "# CP\n",
    "cp = show_categorical(df.cp, [1, 2, 3, 4], [\"Typical Angina\", \"Atypical Angina\", \"Non-anginal Pain\", \"Asymptomatic\"], \n",
    "    \"Chest Pain Type\"; legend=(1, 0.6));\n",
    "\n",
    "# FBS\n",
    "fbs =show_categorical(df.fbs, [0, 1], [\"False\", \"True\"], \"Fasting Blood Sugar > 120 mg/dl\", legend=(1, 0.5));\n",
    "\n",
    "# Restecg\n",
    "restecg =show_categorical(df.restecg, [0, 1, 2], [\"Normal\", \"Abnormality\", \"LVH\"], \" Resting Electrocardiographic Results\"; \n",
    "    legend=(1,0.6));\n",
    "\n",
    "# Exang\n",
    "exang = show_categorical(df.exang, [0, 1], [\"False\", \"True\"], \"Exercise Induced Angina\", legend = (1,0.5));\n",
    "\n",
    "# Thal\n",
    "thal = show_categorical(df.thal, [3, 6, 7], [\"Normal\", \"Fixed Defect\", \"Reversable Defect\"], \"Thal\", legend = (1,0.6));\n",
    "\n",
    "# Slope\n",
    "slope = show_categorical(df.slope, [1, 2, 3], [\"Upsloping\", \"Flat\", \"Downsloping\"], \"Slope\"; legend=(1, 0.6));\n",
    "\n",
    "# Target\n",
    "target = show_categorical(df.target, [0, 1, 2, 3, 4], [\"Class 0\", \"Class 1\", \"Class 2\", \"Class 3\", \"Class 4\"], \n",
    "    \"Diagnosis of Heart Disease\", legend=(1, 0.7));\n",
    "\n",
    "# Setting the layout of all plots together\n",
    "l = @layout [\n",
    "            a{0.4w, 0.25h}  b{0.4w, 0.25h};\n",
    "            c{0.4w, 0.25h}  d{0.4w, 0.25h};\n",
    "            e{0.4w, 0.25h}  f{0.4w, 0.25h};\n",
    "            g{0.4w, 0.25h}  h{0.4w, 0.25h}]\n",
    "\n",
    "# Ploting all attributes\n",
    "plot(sex, cp, fbs, restecg, exang, thal, slope, target, layout=l, size=(950, 1000)) # Function defined in Plots Pkg"
   ]
  },
  {
   "cell_type": "markdown",
   "metadata": {},
   "source": [
    "### Target\n",
    "\n",
    "For purpose of getting a better balance and reduce the problem increasing our perfomance, we transformed the target in only two classes, 0 if the person do not have heart disease and 1 otherwise."
   ]
  },
  {
   "cell_type": "code",
   "execution_count": 25,
   "metadata": {},
   "outputs": [
    {
     "ename": "UndefVarError",
     "evalue": "UndefVarError: px not defined",
     "output_type": "error",
     "traceback": [
      "UndefVarError: px not defined",
      "",
      "Stacktrace:",
      " [1] show_categorical(::Array{Int64,1}, ::Array{Int64,1}, ::Array{String,1}, ::String; legend::Tuple{Float64,Float64}) at C:\\Users\\GT\\Desktop\\Grupo Pesquisa\\Lista 2-Exercícios ML\\CardiacDisease\\Functions\\CategoricalData.jl:9",
      " [2] top-level scope at In[25]:3"
     ]
    }
   ],
   "source": [
    "# Making target binary\n",
    "df.target = map(a -> a == 0 ? 0 : 1, df.target)\n",
    "\n",
    "# Plotting the new target\n",
    "show_categorical(df.target, [0, 1], [\"Class 0\", \"Class 1\"], \"Diagnosis of Heart Disease\", legend=(0.9, 0.5))"
   ]
  },
  {
   "cell_type": "markdown",
   "metadata": {},
   "source": [
    "<br>\n",
    "\n",
    "[Back to the top](#Sumary)"
   ]
  },
  {
   "cell_type": "markdown",
   "metadata": {},
   "source": [
    "<hr>\n",
    "\n",
    "## Numerical Data\n",
    "Creating the function to plot numerical data."
   ]
  },
  {
   "cell_type": "code",
   "execution_count": 3,
   "metadata": {},
   "outputs": [
    {
     "ename": "UndefVarError",
     "evalue": "UndefVarError: histogram not defined",
     "output_type": "error",
     "traceback": [
      "UndefVarError: histogram not defined",
      "",
      "Stacktrace:",
      " [1] top-level scope at In[3]:1"
     ]
    }
   ],
   "source": [
    "# Building individualy each plot\n",
    "# Age\n",
    "age = histogram(df.age, title=\"Range of Age\", labels=\"Age\") # Function defined in Plots Pkg\n",
    "\n",
    "# Trestbps\n",
    "trestbps = histogram(df.trestbps, title=\"Range of Trestbps\", labels=\"trestbps\")\n",
    "\n",
    "# Chol\n",
    "chol = histogram(df.chol, title=\"Range of Chol\", labels=\"chol\")\n",
    "\n",
    "# Thalach\n",
    "thalach = histogram(df.thalach, title=\"Range of Thalach\", labels=\"thalach\")\n",
    "\n",
    "# Oldpeak\n",
    "oldpeak = histogram(df.oldpeak, title=\"Range of Oldpeak\", labels=\"oldpeak\")\n",
    "\n",
    "# CA\n",
    "ca = histogram(df.ca, title=\"Range of CA\", labels=\"ca\")\n",
    "\n",
    "# Setting the layout of all plots together\n",
    "l = @layout [\n",
    "            a{0.5w, 0.33h}  b{0.5w, 0.33h};\n",
    "            c{0.5w, 0.33h}  d{0.5w, 0.33h};\n",
    "            e{0.5w, 0.33h}  f{0.5w, 0.33h}]\n",
    "\n",
    "# Ploting all attributes\n",
    "plot(age, trestbps, chol, thalach, oldpeak, ca, layout= l, size=(950,750), legend=false)"
   ]
  },
  {
   "cell_type": "markdown",
   "metadata": {},
   "source": [
    "### Distributions\n",
    "From that we can see that the majority of the attributes have a normal distribution(Age, Trestbps, Chol, Thalach) and some have a exponencial distribution(Oldpeak, CA)."
   ]
  },
  {
   "cell_type": "markdown",
   "metadata": {},
   "source": [
    "<br>\n",
    "\n",
    "[Back to the top](#Sumary)"
   ]
  },
  {
   "cell_type": "markdown",
   "metadata": {},
   "source": [
    "<hr>\n",
    "\n",
    "## Correlation Matrix"
   ]
  },
  {
   "cell_type": "markdown",
   "metadata": {},
   "source": [
    "Now we are going to plot the correlation matrix of our data set, this rate the relation between two quantitative attributes into grades between -1 and 1. It evaluate with negative numbers when the attibutes are inversely proportional and with a positive number when they are directly proportional."
   ]
  },
  {
   "cell_type": "code",
   "execution_count": 4,
   "metadata": {},
   "outputs": [
    {
     "ename": "LoadError",
     "evalue": "UndefVarError: DataFrame not defined",
     "output_type": "error",
     "traceback": [
      "UndefVarError: DataFrame not defined",
      "",
      "Stacktrace:",
      " [1] top-level scope at C:\\Users\\GT\\Desktop\\Grupo Pesquisa\\Lista 2-Exercícios ML\\CardiacDisease\\Functions\\Correlation.jl:1",
      " [2] include(::String) at .\\client.jl:439",
      " [3] top-level scope at In[4]:1"
     ]
    }
   ],
   "source": [
    "# Including file of functions\n",
    "include(\"Functions/Correlation.jl\");\n",
    "\n",
    "# Getting the correlation matrix\n",
    "CorrMatrix = GetCorrelationMatrix(df); # Funtion defined in Correlation.jl\n",
    "\n",
    "# Setting the names of each row and column\n",
    "summary = [\"age\",\"sex\",\"cp\", \"trestbps\", \"chol\", \"fbs\", \"restecg\", \"thalach\", \"exang\", \"oldpeak\", \"slope\", \"ca\", \"thal\", \"target\"];\n",
    "\n",
    "# Setting the colors we want\n",
    "color =  cgrad([:darkgreen, :ghostwhite, :firebrick4], 100);\n",
    "\n",
    "# Plotting the heatmap for our correlation matrix\n",
    "heatmap(summary, summary, CorrMatrix, size =[800, 750], c = color, clims=(-1, 1)) # Function defined in Plots Pkg"
   ]
  },
  {
   "cell_type": "markdown",
   "metadata": {},
   "source": [
    "From that we can analyse some attributes with big correlation with the target, and maybe that ones are great predictors."
   ]
  },
  {
   "cell_type": "markdown",
   "metadata": {},
   "source": [
    "### One-Hot Encoding\n",
    "If we think straight, categorical values does not really make sense in correlation, because when it goes up or down, it no necesseraly upgrading or downgrading, it just changing classes. So we use this tecnic called One-Hot Encoding that transform our categorical variables in binary.\n",
    "\n",
    "- Note: The same problem with categorical values will occur when we are going to prediction, so this one-hot is also a good thing later."
   ]
  },
  {
   "cell_type": "code",
   "execution_count": 5,
   "metadata": {},
   "outputs": [
    {
     "ename": "LoadError",
     "evalue": "UndefVarError: DataFrame not defined",
     "output_type": "error",
     "traceback": [
      "UndefVarError: DataFrame not defined",
      "",
      "Stacktrace:",
      " [1] top-level scope at C:\\Users\\GT\\Desktop\\Grupo Pesquisa\\Lista 2-Exercícios ML\\CardiacDisease\\Functions\\OneHot.jl:19",
      " [2] include(::String) at .\\client.jl:439",
      " [3] top-level scope at In[5]:1"
     ]
    }
   ],
   "source": [
    "# Including file of functions\n",
    "include(\"Functions/OneHot.jl\");\n",
    "\n",
    "# Aplying One-Hot\n",
    "OneHot_df = OneHotEncoding(df); # Funtion defined in OneHot.jl\n",
    "\n",
    "# Showing the 10 firsts rows of one-hot data set\n",
    "show(first(OneHot_df, 10), allcols = true)"
   ]
  },
  {
   "cell_type": "markdown",
   "metadata": {},
   "source": [
    "Now we do the correlation matrix again."
   ]
  },
  {
   "cell_type": "code",
   "execution_count": 6,
   "metadata": {},
   "outputs": [
    {
     "ename": "UndefVarError",
     "evalue": "UndefVarError: OneHot_df not defined",
     "output_type": "error",
     "traceback": [
      "UndefVarError: OneHot_df not defined",
      "",
      "Stacktrace:",
      " [1] top-level scope at In[6]:1"
     ]
    }
   ],
   "source": [
    "# Getting the correlation matrix\n",
    "OneHot_CorrMatrix = GetCorrelationMatrix(OneHot_df); # Funtion defined in Correlation.jl\n",
    "\n",
    "# Setting the names of each row and column\n",
    "OneHot_summary = [\"age\",\"sex\",\"trestbps\",\"chol\",\"fbs\",\"thalach\",\"exang\",\"ca\",\"oldpeak\",\"cp1\",\"cp2\",\"cp3\",\"cp4\",\n",
    "    \"restecg1\",\"restecg2\",\"restecg3\",\"slope1\",\"slope2\",\"slope3\",\"thal3\",\"thal6\",\"thal7\",\"target\"]\n",
    "\n",
    "# Plotting the heatmap for our correlation matrix\n",
    "heatmap(OneHot_summary, OneHot_summary, OneHot_CorrMatrix, size =[1400, 1400], c = color, clims=(-1, 1), xticks=:all, yticks=:all)"
   ]
  },
  {
   "cell_type": "markdown",
   "metadata": {},
   "source": [
    "Because it is a big picture it will also be saved in Graphs folder for better visualization."
   ]
  },
  {
   "cell_type": "code",
   "execution_count": 7,
   "metadata": {},
   "outputs": [
    {
     "ename": "UndefVarError",
     "evalue": "UndefVarError: color not defined",
     "output_type": "error",
     "traceback": [
      "UndefVarError: color not defined",
      "",
      "Stacktrace:",
      " [1] top-level scope at In[7]:1"
     ]
    }
   ],
   "source": [
    "png(heatmap(OneHot_summary, OneHot_summary, OneHot_CorrMatrix, size =[1400, 1400], c = color, clims=(-1, 1), xticks=:all, yticks=:all)\n",
    ", \"Graphs/OneHot_CorrelationMatrix\") # Function defined in Plots Pkg"
   ]
  },
  {
   "cell_type": "markdown",
   "metadata": {},
   "source": [
    "Now we can look for the strongest correlations of the matrix, and focus our eyes in the target."
   ]
  },
  {
   "cell_type": "code",
   "execution_count": 8,
   "metadata": {},
   "outputs": [
    {
     "ename": "UndefVarError",
     "evalue": "UndefVarError: OneHot_CorrMatrix not defined",
     "output_type": "error",
     "traceback": [
      "UndefVarError: OneHot_CorrMatrix not defined",
      "",
      "Stacktrace:",
      " [1] top-level scope at In[8]:1"
     ]
    }
   ],
   "source": [
    "# Finding the correlations greater than 0.4 and inferior than -0.4\n",
    "best = findall(x -> (x >= 0.40 && x < 0.7) || (x <= -0.40 && x > -0.7), OneHot_CorrMatrix)\n",
    "\n",
    "for cord in best\n",
    "    println(\"$(OneHot_summary[cord[1]]) x $(OneHot_summary[cord[2]])\")\n",
    "end"
   ]
  },
  {
   "cell_type": "markdown",
   "metadata": {},
   "source": [
    "<br>\n",
    "\n",
    "[Back to the top](#Sumary)"
   ]
  },
  {
   "cell_type": "markdown",
   "metadata": {},
   "source": [
    "<hr>\n",
    "\n",
    "## Saving Data"
   ]
  },
  {
   "cell_type": "code",
   "execution_count": 9,
   "metadata": {},
   "outputs": [],
   "source": [
    "using MLJ, MLJLinearModels"
   ]
  },
  {
   "cell_type": "code",
   "execution_count": 10,
   "metadata": {},
   "outputs": [
    {
     "ename": "UndefVarError",
     "evalue": "UndefVarError: cleveland not defined",
     "output_type": "error",
     "traceback": [
      "UndefVarError: cleveland not defined",
      "",
      "Stacktrace:",
      " [1] top-level scope at In[10]:1"
     ]
    }
   ],
   "source": [
    "cleveland.alvo = map(a -> a == 0 ? 0 : 1, cleveland.alvo);\n",
    "\n",
    "y, X = unpack(cleveland, ==(:alvo), colname -> true);\n",
    "\n",
    "train, test = partition(eachindex(y), 0.7, stratify=y);"
   ]
  },
  {
   "cell_type": "code",
   "execution_count": 11,
   "metadata": {},
   "outputs": [
    {
     "ename": "UndefVarError",
     "evalue": "UndefVarError: X not defined",
     "output_type": "error",
     "traceback": [
      "UndefVarError: X not defined",
      "",
      "Stacktrace:",
      " [1] top-level scope at In[11]:1"
     ]
    }
   ],
   "source": [
    "X1 = [X[!, :age] X[!, :thalach]];\n",
    "X1 = DataFrame(X1);"
   ]
  },
  {
   "cell_type": "code",
   "execution_count": 12,
   "metadata": {},
   "outputs": [],
   "source": [
    "LRC_model =  MLJLinearModels.LogisticClassifier();"
   ]
  },
  {
   "cell_type": "code",
   "execution_count": 13,
   "metadata": {},
   "outputs": [
    {
     "ename": "UndefVarError",
     "evalue": "UndefVarError: y not defined",
     "output_type": "error",
     "traceback": [
      "UndefVarError: y not defined",
      "",
      "Stacktrace:",
      " [1] top-level scope at In[13]:1"
     ]
    }
   ],
   "source": [
    "LRC = machine(LRC_model, X, categorical(y));"
   ]
  },
  {
   "cell_type": "code",
   "execution_count": 14,
   "metadata": {},
   "outputs": [
    {
     "ename": "UndefVarError",
     "evalue": "UndefVarError: train not defined",
     "output_type": "error",
     "traceback": [
      "UndefVarError: train not defined",
      "",
      "Stacktrace:",
      " [1] top-level scope at In[14]:1"
     ]
    }
   ],
   "source": [
    "MLJ.fit!(LRC, rows=train);\n",
    "ŷ = MLJ.predict(LRC, X[test,:]);"
   ]
  },
  {
   "cell_type": "code",
   "execution_count": 15,
   "metadata": {},
   "outputs": [
    {
     "ename": "UndefVarError",
     "evalue": "UndefVarError: ŷ not defined",
     "output_type": "error",
     "traceback": [
      "UndefVarError: ŷ not defined",
      "",
      "Stacktrace:",
      " [1] top-level scope at In[15]:1"
     ]
    }
   ],
   "source": [
    "resultado = mode.(ŷ);\n",
    "accuracy(resultado, categorical(y[test]))"
   ]
  },
  {
   "cell_type": "code",
   "execution_count": 16,
   "metadata": {},
   "outputs": [
    {
     "ename": "UndefVarError",
     "evalue": "UndefVarError: LRC not defined",
     "output_type": "error",
     "traceback": [
      "UndefVarError: LRC not defined",
      "",
      "Stacktrace:",
      " [1] top-level scope at In[16]:1"
     ]
    }
   ],
   "source": [
    "LRC.fitresult[1];"
   ]
  },
  {
   "cell_type": "code",
   "execution_count": 17,
   "metadata": {},
   "outputs": [
    {
     "data": {
      "text/plain": [
       "f (generic function with 1 method)"
      ]
     },
     "execution_count": 17,
     "metadata": {},
     "output_type": "execute_result"
    }
   ],
   "source": [
    "f(x) = (-LRC.fitresult[1][3] + 0.5 - LRC.fitresult[1][1] * x) / LRC.fitresult[1][2]"
   ]
  },
  {
   "cell_type": "code",
   "execution_count": 18,
   "metadata": {},
   "outputs": [
    {
     "ename": "UndefVarError",
     "evalue": "UndefVarError: cleveland not defined",
     "output_type": "error",
     "traceback": [
      "UndefVarError: cleveland not defined",
      "",
      "Stacktrace:",
      " [1] top-level scope at In[18]:1"
     ]
    }
   ],
   "source": [
    "cleveland_1 = filter(row -> row.alvo != 0, cleveland)\n",
    "cleveland_0 = filter(row -> row.alvo == 0, cleveland)\n",
    "h3 =plot(cleveland_1.age, cleveland_1.thalach, seriestype=:scatter,label =\"Sick\", xlabel = \"Age\", ylabel = \"thalach\", legend=:outertopright)\n",
    "plot!(cleveland_0.age, cleveland_0.thalach, seriestype=:scatter,label=\"Healthy\", xlabel = \"Age\", ylabel = \"Thalach\")\n",
    "\n",
    "plot!(f, 25, 90, label = \"LR\", linewidth = 3)"
   ]
  }
 ],
 "metadata": {
  "kernelspec": {
   "display_name": "Julia 1.4.2",
   "language": "julia",
   "name": "julia-1.4"
  },
  "language_info": {
   "file_extension": ".jl",
   "mimetype": "application/julia",
   "name": "julia",
   "version": "1.4.2"
  }
 },
 "nbformat": 4,
 "nbformat_minor": 4
}
