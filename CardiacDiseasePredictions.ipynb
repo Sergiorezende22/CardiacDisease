{
 "cells": [
  {
   "cell_type": "markdown",
   "metadata": {},
   "source": [
    "# _PREDICTIONS HEART DISEASE DATA SET_\n",
    "\n",
    "<hr style=\"height:2px;\">\n",
    "\n",
    "[Official Link to the Data Set](https://archive.ics.uci.edu/ml/datasets/Heart+Disease)\n",
    "\n",
    "<br>"
   ]
  },
  {
   "cell_type": "markdown",
   "metadata": {},
   "source": [
    "## Sumary\n",
    "- [Preparing the ambient](#Preparing-the-ambient)"
   ]
  },
  {
   "cell_type": "markdown",
   "metadata": {},
   "source": [
    "<hr>\n",
    "\n",
    "## _Preparing the ambient_\n",
    "\n",
    "First, we need prepare the packages that we will use.\n",
    "The packages are \"DataFrames\", \"MLJ\", \"MLJLinearModels\", \"Plots\"."
   ]
  },
  {
   "cell_type": "code",
   "execution_count": 3,
   "metadata": {},
   "outputs": [],
   "source": [
    "using DataFrames, MLJ, MLJLinearModels, Plots"
   ]
  },
  {
   "cell_type": "markdown",
   "metadata": {},
   "source": [
    "If some of the packages is not instaled in your computer just use:\n",
    "```julia\n",
    "    using Pkg;\n",
    "    Pkg.add(\"PackageName\");\n",
    "```   \n",
    "<br>\n",
    "\n",
    "[Back to the top](#Sumary)"
   ]
  },
  {
   "cell_type": "code",
   "execution_count": null,
   "metadata": {},
   "outputs": [],
   "source": [
    "cleveland.alvo = map(a -> a == 0 ? 0 : 1, cleveland.alvo);\n",
    "\n",
    "y, X = unpack(cleveland, ==(:alvo), colname -> true);\n",
    "\n",
    "train, test = partition(eachindex(y), 0.7, stratify=y);"
   ]
  },
  {
   "cell_type": "code",
   "execution_count": null,
   "metadata": {},
   "outputs": [],
   "source": [
    "X1 = [X[!, :age] X[!, :thalach]];\n",
    "X1 = DataFrame(X1);"
   ]
  },
  {
   "cell_type": "code",
   "execution_count": null,
   "metadata": {},
   "outputs": [],
   "source": [
    "LRC_model =  MLJLinearModels.LogisticClassifier();"
   ]
  },
  {
   "cell_type": "code",
   "execution_count": null,
   "metadata": {},
   "outputs": [],
   "source": [
    "LRC = machine(LRC_model, X, categorical(y));"
   ]
  },
  {
   "cell_type": "code",
   "execution_count": null,
   "metadata": {},
   "outputs": [],
   "source": [
    "MLJ.fit!(LRC, rows=train);\n",
    "ŷ = MLJ.predict(LRC, X[test,:]);"
   ]
  },
  {
   "cell_type": "code",
   "execution_count": null,
   "metadata": {},
   "outputs": [],
   "source": [
    "resultado = mode.(ŷ);\n",
    "accuracy(resultado, categorical(y[test]))"
   ]
  },
  {
   "cell_type": "code",
   "execution_count": null,
   "metadata": {},
   "outputs": [],
   "source": [
    "LRC.fitresult[1];"
   ]
  },
  {
   "cell_type": "code",
   "execution_count": null,
   "metadata": {},
   "outputs": [],
   "source": [
    "f(x) = (-LRC.fitresult[1][3] + 0.5 - LRC.fitresult[1][1] * x) / LRC.fitresult[1][2]"
   ]
  },
  {
   "cell_type": "code",
   "execution_count": null,
   "metadata": {},
   "outputs": [],
   "source": [
    "cleveland_1 = filter(row -> row.alvo != 0, cleveland)\n",
    "cleveland_0 = filter(row -> row.alvo == 0, cleveland)\n",
    "h3 =plot(cleveland_1.age, cleveland_1.thalach, seriestype=:scatter,label =\"Sick\", xlabel = \"Age\", ylabel = \"thalach\", legend=:outertopright)\n",
    "plot!(cleveland_0.age, cleveland_0.thalach, seriestype=:scatter,label=\"Healthy\", xlabel = \"Age\", ylabel = \"Thalach\")\n",
    "\n",
    "plot!(f, 25, 90, label = \"LR\", linewidth = 3)"
   ]
  }
 ],
 "metadata": {
  "kernelspec": {
   "display_name": "Julia 1.4.2",
   "language": "julia",
   "name": "julia-1.4"
  },
  "language_info": {
   "file_extension": ".jl",
   "mimetype": "application/julia",
   "name": "julia",
   "version": "1.4.2"
  }
 },
 "nbformat": 4,
 "nbformat_minor": 4
}
