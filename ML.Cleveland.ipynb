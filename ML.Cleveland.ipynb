{
 "cells": [
  {
   "cell_type": "markdown",
   "metadata": {},
   "source": [
    "# Preparing the ambient\n",
    "\n",
    "First, we need prepare the packages that we will use.\n",
    "The packages are \"DataFrames\" and \"CSV.\n"
   ]
  },
  {
   "cell_type": "code",
   "execution_count": 1,
   "metadata": {},
   "outputs": [
    {
     "name": "stderr",
     "output_type": "stream",
     "text": [
      "\u001b[32m\u001b[1m   Updating\u001b[22m\u001b[39m registry at `C:\\Users\\GT\\.julia\\registries\\General`\n",
      "\u001b[32m\u001b[1m   Updating\u001b[22m\u001b[39m git-repo `https://github.com/JuliaRegistries/General.git`\n"
     ]
    },
    {
     "name": "stdout",
     "output_type": "stream",
     "text": [
      "\u001b[?25l    \u001b[36m\u001b[1mFetching:\u001b[22m\u001b[39m [>                                        ]  0.0 %\r",
      "    \u001b[36m\u001b[1mFetching:\u001b[22m\u001b[39m [=>                                       ]  0.3 %\r",
      "    \u001b[36m\u001b[1mFetching:\u001b[22m\u001b[39m [=>                                       ]  0.7 %\r",
      "    \u001b[36m\u001b[1mFetching:\u001b[22m\u001b[39m [=>                                       ]  1.0 %\r",
      "    \u001b[36m\u001b[1mFetching:\u001b[22m\u001b[39m [=>                                       ]  1.4 %\r",
      "    \u001b[36m\u001b[1mFetching:\u001b[22m\u001b[39m [=>                                       ]  1.7 %\r",
      "    \u001b[36m\u001b[1mFetching:\u001b[22m\u001b[39m [=>                                       ]  2.1 %\r",
      "    \u001b[36m\u001b[1mFetching:\u001b[22m\u001b[39m [=>                                       ]  2.4 %\r",
      "    \u001b[36m\u001b[1mFetching:\u001b[22m\u001b[39m [==>                                      ]  2.7 %\r",
      "    \u001b[36m\u001b[1mFetching:\u001b[22m\u001b[39m [==>                                      ]  3.1 %\r",
      "    \u001b[36m\u001b[1mFetching:\u001b[22m\u001b[39m [==>                                      ]  3.4 %\r",
      "    \u001b[36m\u001b[1mFetching:\u001b[22m\u001b[39m [==>                                      ]  3.8 %\r",
      "    \u001b[36m\u001b[1mFetching:\u001b[22m\u001b[39m [==>                                      ]  4.1 %\r",
      "    \u001b[36m\u001b[1mFetching:\u001b[22m\u001b[39m [==>                                      ]  4.5 %\r",
      "    \u001b[36m\u001b[1mFetching:\u001b[22m\u001b[39m [==>                                      ]  4.8 %\r",
      "    \u001b[36m\u001b[1mFetching:\u001b[22m\u001b[39m [===>                                     ]  5.1 %\r",
      "    \u001b[36m\u001b[1mFetching:\u001b[22m\u001b[39m [===>                                     ]  5.5 %\r",
      "    \u001b[36m\u001b[1mFetching:\u001b[22m\u001b[39m [===>                                     ]  5.8 %\r",
      "    \u001b[36m\u001b[1mFetching:\u001b[22m\u001b[39m [===>                                     ]  6.2 %\r",
      "    \u001b[36m\u001b[1mFetching:\u001b[22m\u001b[39m [===>                                     ]  6.5 %\r",
      "    \u001b[36m\u001b[1mFetching:\u001b[22m\u001b[39m [===>                                     ]  6.8 %\r",
      "    \u001b[36m\u001b[1mFetching:\u001b[22m\u001b[39m [===>                                     ]  7.2 %\r",
      "    \u001b[36m\u001b[1mFetching:\u001b[22m\u001b[39m [====>                                    ]  7.5 %\r",
      "    \u001b[36m\u001b[1mFetching:\u001b[22m\u001b[39m [====>                                    ]  7.9 %\r",
      "    \u001b[36m\u001b[1mFetching:\u001b[22m\u001b[39m [====>                                    ]  8.2 %\r",
      "    \u001b[36m\u001b[1mFetching:\u001b[22m\u001b[39m [====>                                    ]  8.6 %\r",
      "    \u001b[36m\u001b[1mFetching:\u001b[22m\u001b[39m [====>                                    ]  8.9 %\r",
      "    \u001b[36m\u001b[1mFetching:\u001b[22m\u001b[39m [====>                                    ]  9.2 %\r",
      "    \u001b[36m\u001b[1mFetching:\u001b[22m\u001b[39m [====>                                    ]  9.6 %\r",
      "    \u001b[36m\u001b[1mFetching:\u001b[22m\u001b[39m [====>                                    ]  9.9 %\r",
      "    \u001b[36m\u001b[1mFetching:\u001b[22m\u001b[39m [=====>                                   ]  10.3 %\r",
      "    \u001b[36m\u001b[1mFetching:\u001b[22m\u001b[39m [=====>                                   ]  10.6 %\r",
      "    \u001b[36m\u001b[1mFetching:\u001b[22m\u001b[39m [=====>                                   ]  11.0 %\r",
      "    \u001b[36m\u001b[1mFetching:\u001b[22m\u001b[39m [=====>                                   ]  11.3 %\r",
      "    \u001b[36m\u001b[1mFetching:\u001b[22m\u001b[39m [=====>                                   ]  11.6 %\r",
      "    \u001b[36m\u001b[1mFetching:\u001b[22m\u001b[39m [=====>                                   ]  12.0 %\r",
      "    \u001b[36m\u001b[1mFetching:\u001b[22m\u001b[39m [=====>                                   ]  12.3 %\r",
      "    \u001b[36m\u001b[1mFetching:\u001b[22m\u001b[39m [======>                                  ]  12.7 %\r",
      "    \u001b[36m\u001b[1mFetching:\u001b[22m\u001b[39m [======>                                  ]  13.0 %\r",
      "    \u001b[36m\u001b[1mFetching:\u001b[22m\u001b[39m [======>                                  ]  13.4 %\r",
      "    \u001b[36m\u001b[1mFetching:\u001b[22m\u001b[39m [======>                                  ]  13.7 %\r",
      "    \u001b[36m\u001b[1mFetching:\u001b[22m\u001b[39m [======>                                  ]  14.0 %\r",
      "    \u001b[36m\u001b[1mFetching:\u001b[22m\u001b[39m [======>                                  ]  14.4 %\r",
      "    \u001b[36m\u001b[1mFetching:\u001b[22m\u001b[39m [======>                                  ]  14.7 %\r",
      "    \u001b[36m\u001b[1mFetching:\u001b[22m\u001b[39m [=======>                                 ]  15.1 %\r",
      "    \u001b[36m\u001b[1mFetching:\u001b[22m\u001b[39m [=======>                                 ]  15.4 %\r",
      "    \u001b[36m\u001b[1mFetching:\u001b[22m\u001b[39m [=======>                                 ]  15.8 %\r",
      "    \u001b[36m\u001b[1mFetching:\u001b[22m\u001b[39m [=======>                                 ]  16.1 %\r",
      "    \u001b[36m\u001b[1mFetching:\u001b[22m\u001b[39m [=======>                                 ]  16.4 %\r",
      "    \u001b[36m\u001b[1mFetching:\u001b[22m\u001b[39m [=======>                                 ]  16.8 %\r",
      "    \u001b[36m\u001b[1mFetching:\u001b[22m\u001b[39m [=======>                                 ]  17.1 %\r",
      "    \u001b[36m\u001b[1mFetching:\u001b[22m\u001b[39m [=======>                                 ]  17.5 %\r",
      "    \u001b[36m\u001b[1mFetching:\u001b[22m\u001b[39m [========>                                ]  17.8 %\r",
      "    \u001b[36m\u001b[1mFetching:\u001b[22m\u001b[39m [========>                                ]  18.2 %\r",
      "    \u001b[36m\u001b[1mFetching:\u001b[22m\u001b[39m [========>                                ]  18.5 %\r",
      "    \u001b[36m\u001b[1mFetching:\u001b[22m\u001b[39m [========>                                ]  18.8 %\r",
      "    \u001b[36m\u001b[1mFetching:\u001b[22m\u001b[39m [========>                                ]  19.2 %\r",
      "    \u001b[36m\u001b[1mFetching:\u001b[22m\u001b[39m [========>                                ]  19.5 %\r",
      "    \u001b[36m\u001b[1mFetching:\u001b[22m\u001b[39m [========>                                ]  19.9 %\r",
      "    \u001b[36m\u001b[1mFetching:\u001b[22m\u001b[39m [=========>                               ]  20.2 %\r",
      "    \u001b[36m\u001b[1mFetching:\u001b[22m\u001b[39m [=========>                               ]  20.5 %\r",
      "    \u001b[36m\u001b[1mFetching:\u001b[22m\u001b[39m [=========>                               ]  20.9 %\r",
      "    \u001b[36m\u001b[1mFetching:\u001b[22m\u001b[39m [=========>                               ]  21.2 %\r",
      "    \u001b[36m\u001b[1mFetching:\u001b[22m\u001b[39m [=========>                               ]  21.6 %\r",
      "    \u001b[36m\u001b[1mFetching:\u001b[22m\u001b[39m [=========>                               ]  21.9 %\r",
      "    \u001b[36m\u001b[1mFetching:\u001b[22m\u001b[39m [=========>                               ]  22.3 %\r",
      "    \u001b[36m\u001b[1mFetching:\u001b[22m\u001b[39m [==========>                              ]  22.6 %\r",
      "    \u001b[36m\u001b[1mFetching:\u001b[22m\u001b[39m [==========>                              ]  22.9 %\r",
      "    \u001b[36m\u001b[1mFetching:\u001b[22m\u001b[39m [==========>                              ]  23.3 %\r",
      "    \u001b[36m\u001b[1mFetching:\u001b[22m\u001b[39m [==========>                              ]  23.6 %\r",
      "    \u001b[36m\u001b[1mFetching:\u001b[22m\u001b[39m [==========>                              ]  24.0 %\r",
      "    \u001b[36m\u001b[1mFetching:\u001b[22m\u001b[39m [==========>                              ]  24.3 %\r",
      "    \u001b[36m\u001b[1mFetching:\u001b[22m\u001b[39m [==========>                              ]  24.7 %\r",
      "    \u001b[36m\u001b[1mFetching:\u001b[22m\u001b[39m [==========>                              ]  25.0 %\r",
      "    \u001b[36m\u001b[1mFetching:\u001b[22m\u001b[39m [===========>                             ]  25.3 %\r",
      "    \u001b[36m\u001b[1mFetching:\u001b[22m\u001b[39m [===========>                             ]  25.7 %\r",
      "    \u001b[36m\u001b[1mFetching:\u001b[22m\u001b[39m [===========>                             ]  26.0 %\r",
      "    \u001b[36m\u001b[1mFetching:\u001b[22m\u001b[39m [===========>                             ]  26.4 %\r",
      "    \u001b[36m\u001b[1mFetching:\u001b[22m\u001b[39m [===========>                             ]  26.7 %\r",
      "    \u001b[36m\u001b[1mFetching:\u001b[22m\u001b[39m [===========>                             ]  27.1 %\r",
      "    \u001b[36m\u001b[1mFetching:\u001b[22m\u001b[39m [===========>                             ]  27.4 %\r",
      "    \u001b[36m\u001b[1mFetching:\u001b[22m\u001b[39m [============>                            ]  27.7 %\r",
      "    \u001b[36m\u001b[1mFetching:\u001b[22m\u001b[39m [============>                            ]  28.1 %\r",
      "    \u001b[36m\u001b[1mFetching:\u001b[22m\u001b[39m [============>                            ]  28.4 %\r",
      "    \u001b[36m\u001b[1mFetching:\u001b[22m\u001b[39m [============>                            ]  28.8 %\r",
      "    \u001b[36m\u001b[1mFetching:\u001b[22m\u001b[39m [============>                            ]  29.1 %\r",
      "    \u001b[36m\u001b[1mFetching:\u001b[22m\u001b[39m [============>                            ]  29.5 %\r",
      "    \u001b[36m\u001b[1mFetching:\u001b[22m\u001b[39m [============>                            ]  29.8 %\r",
      "    \u001b[36m\u001b[1mFetching:\u001b[22m\u001b[39m [=============>                           ]  30.1 %\r",
      "    \u001b[36m\u001b[1mFetching:\u001b[22m\u001b[39m [=============>                           ]  30.5 %\r",
      "    \u001b[36m\u001b[1mFetching:\u001b[22m\u001b[39m [=============>                           ]  30.8 %\r",
      "    \u001b[36m\u001b[1mFetching:\u001b[22m\u001b[39m [=============>                           ]  31.2 %\r",
      "    \u001b[36m\u001b[1mFetching:\u001b[22m\u001b[39m [=============>                           ]  31.5 %\r",
      "    \u001b[36m\u001b[1mFetching:\u001b[22m\u001b[39m [=============>                           ]  31.8 %\r",
      "    \u001b[36m\u001b[1mFetching:\u001b[22m\u001b[39m [=============>                           ]  32.2 %\r",
      "    \u001b[36m\u001b[1mFetching:\u001b[22m\u001b[39m [==============>                          ]  32.5 %\r",
      "    \u001b[36m\u001b[1mFetching:\u001b[22m\u001b[39m [==============>                          ]  32.9 %\r",
      "    \u001b[36m\u001b[1mFetching:\u001b[22m\u001b[39m [==============>                          ]  33.2 %\r",
      "    \u001b[36m\u001b[1mFetching:\u001b[22m\u001b[39m [==============>                          ]  33.6 %\r",
      "    \u001b[36m\u001b[1mFetching:\u001b[22m\u001b[39m [==============>                          ]  33.9 %\r",
      "    \u001b[36m\u001b[1mFetching:\u001b[22m\u001b[39m [==============>                          ]  34.2 %\r",
      "    \u001b[36m\u001b[1mFetching:\u001b[22m\u001b[39m [==============>                          ]  34.6 %\r",
      "    \u001b[36m\u001b[1mFetching:\u001b[22m\u001b[39m [==============>                          ]  34.9 %\r",
      "    \u001b[36m\u001b[1mFetching:\u001b[22m\u001b[39m [===============>                         ]  35.3 %\r",
      "    \u001b[36m\u001b[1mFetching:\u001b[22m\u001b[39m [===============>                         ]  35.6 %\r",
      "    \u001b[36m\u001b[1mFetching:\u001b[22m\u001b[39m [===============>                         ]  36.0 %\r",
      "    \u001b[36m\u001b[1mFetching:\u001b[22m\u001b[39m [===============>                         ]  36.3 %\r",
      "    \u001b[36m\u001b[1mFetching:\u001b[22m\u001b[39m [===============>                         ]  36.6 %\r",
      "    \u001b[36m\u001b[1mFetching:\u001b[22m\u001b[39m [===============>                         ]  37.0 %\r",
      "    \u001b[36m\u001b[1mFetching:\u001b[22m\u001b[39m [===============>                         ]  37.3 %\r",
      "    \u001b[36m\u001b[1mFetching:\u001b[22m\u001b[39m [================>                        ]  37.7 %\r",
      "    \u001b[36m\u001b[1mFetching:\u001b[22m\u001b[39m [================>                        ]  38.0 %\r",
      "    \u001b[36m\u001b[1mFetching:\u001b[22m\u001b[39m [================>                        ]  38.4 %\r",
      "    \u001b[36m\u001b[1mFetching:\u001b[22m\u001b[39m [================>                        ]  38.7 %\r",
      "    \u001b[36m\u001b[1mFetching:\u001b[22m\u001b[39m [================>                        ]  39.0 %\r",
      "    \u001b[36m\u001b[1mFetching:\u001b[22m\u001b[39m [================>                        ]  39.4 %\r",
      "    \u001b[36m\u001b[1mFetching:\u001b[22m\u001b[39m [================>                        ]  39.7 %\r",
      "    \u001b[36m\u001b[1mFetching:\u001b[22m\u001b[39m [=================>                       ]  40.1 %\r",
      "    \u001b[36m\u001b[1mFetching:\u001b[22m\u001b[39m [=================>                       ]  40.4 %\r",
      "    \u001b[36m\u001b[1mFetching:\u001b[22m\u001b[39m [=================>                       ]  40.8 %\r",
      "    \u001b[36m\u001b[1mFetching:\u001b[22m\u001b[39m [=================>                       "
     ]
    },
    {
     "name": "stdout",
     "output_type": "stream",
     "text": [
      "\u001b[2K\u001b[36m\u001b[1mFetching:\u001b[22m\u001b[39m [========================================>]  100.0 %\u001b[?25h"
     ]
    },
    {
     "name": "stderr",
     "output_type": "stream",
     "text": [
      "\u001b[32m\u001b[1m  Resolving\u001b[22m\u001b[39m package versions...\n",
      "\u001b[32m\u001b[1m  Installed\u001b[22m\u001b[39m PooledArrays ────── v0.5.3\n",
      "\u001b[32m\u001b[1m  Installed\u001b[22m\u001b[39m InvertedIndices ─── v1.0.0\n",
      "\u001b[32m\u001b[1m  Installed\u001b[22m\u001b[39m CategoricalArrays ─ v0.8.1\n",
      "\u001b[32m\u001b[1m  Installed\u001b[22m\u001b[39m DataFrames ──────── v0.21.5\n",
      "\u001b[32m\u001b[1m   Updating\u001b[22m\u001b[39m `C:\\Users\\GT\\.julia\\environments\\v1.4\\Project.toml`\n",
      " \u001b[90m [a93c6f00]\u001b[39m\u001b[92m + DataFrames v0.21.5\u001b[39m\n",
      "\u001b[32m\u001b[1m   Updating\u001b[22m\u001b[39m `C:\\Users\\GT\\.julia\\environments\\v1.4\\Manifest.toml`\n",
      " \u001b[90m [324d7699]\u001b[39m\u001b[92m + CategoricalArrays v0.8.1\u001b[39m\n",
      " \u001b[90m [a93c6f00]\u001b[39m\u001b[92m + DataFrames v0.21.5\u001b[39m\n",
      " \u001b[90m [41ab1584]\u001b[39m\u001b[92m + InvertedIndices v1.0.0\u001b[39m\n",
      " \u001b[90m [2dfb63ee]\u001b[39m\u001b[92m + PooledArrays v0.5.3\u001b[39m\n",
      " \u001b[90m [9fa8497b]\u001b[39m\u001b[92m + Future \u001b[39m\n",
      "\u001b[32m\u001b[1m  Resolving\u001b[22m\u001b[39m package versions...\n",
      "\u001b[32m\u001b[1m  Installed\u001b[22m\u001b[39m SentinelArrays ─ v1.2.9\n",
      "\u001b[32m\u001b[1m  Installed\u001b[22m\u001b[39m CSV ──────────── v0.7.5\n",
      "\u001b[32m\u001b[1m   Updating\u001b[22m\u001b[39m `C:\\Users\\GT\\.julia\\environments\\v1.4\\Project.toml`\n",
      " \u001b[90m [336ed68f]\u001b[39m\u001b[92m + CSV v0.7.5\u001b[39m\n",
      "\u001b[32m\u001b[1m   Updating\u001b[22m\u001b[39m `C:\\Users\\GT\\.julia\\environments\\v1.4\\Manifest.toml`\n",
      " \u001b[90m [336ed68f]\u001b[39m\u001b[92m + CSV v0.7.5\u001b[39m\n",
      " \u001b[90m [91c51154]\u001b[39m\u001b[92m + SentinelArrays v1.2.9\u001b[39m\n"
     ]
    }
   ],
   "source": [
    "using Pkg\n",
    "\n",
    "Pkg.add(\"DataFrames\")\n",
    "Pkg.add(\"CSV\")"
   ]
  },
  {
   "cell_type": "code",
   "execution_count": 2,
   "metadata": {},
   "outputs": [
    {
     "name": "stderr",
     "output_type": "stream",
     "text": [
      "┌ Info: Precompiling DataFrames [a93c6f00-e57d-5684-b7b6-d8193f3e46c0]\n",
      "└ @ Base loading.jl:1260\n",
      "┌ Info: Precompiling CSV [336ed68f-0bac-5ca0-87d4-7b16caf5d00b]\n",
      "└ @ Base loading.jl:1260\n"
     ]
    }
   ],
   "source": [
    "using DataFrames\n",
    "using CSV\n",
    "using Plots"
   ]
  },
  {
   "cell_type": "markdown",
   "metadata": {},
   "source": [
    "# Getting the Cleveland Dataset:\n",
    "This function import and treat the Cleveland dataset\n",
    "\n",
    "```JULIA\n",
    "function GetCleveland(path::String)\n",
    "```\n",
    "> Path: Path to the processed cleveland file\n",
    "\n",
    "\n",
    "# Explaining\n",
    "\n",
    "> We dropped all missing data because it's just 6 instances\n",
    "\n",
    "\n",
    "## Links\n",
    "[Link to the oficial page](https://archive.ics.uci.edu/ml/datasets/Heart+Disease)"
   ]
  },
  {
   "cell_type": "code",
   "execution_count": 3,
   "metadata": {},
   "outputs": [
    {
     "data": {
      "text/plain": [
       "GetCleveland (generic function with 1 method)"
      ]
     },
     "execution_count": 3,
     "metadata": {},
     "output_type": "execute_result"
    }
   ],
   "source": [
    "function GetCleveland(path::String)\n",
    "    # Reading the dataset\n",
    "    cleveland = DataFrame(CSV.File(input_clvnd))\n",
    "\n",
    "    # Setting name in every column\n",
    "    rename!(cleveland, [:age, :sex, :cp, :trestbps, :chol, :fbs, :restecg, :thalach, :exang, :oldpeak, :slope, :ca, :thal, :alvo])\n",
    "\n",
    "    # Allowing missing data and setting missing\n",
    "    allowmissing!(cleveland)\n",
    "    cleveland .= ifelse.(cleveland .== \"?\", missing, cleveland)\n",
    "    dropmissing!(cleveland)\n",
    "\n",
    "    # Changing ca and thal types (defaulted as string)\n",
    "    cleveland.ca = parse.(Float16, cleveland.ca)\n",
    "    cleveland.thal = parse.(Float16, cleveland.thal)\n",
    "    \n",
    "    # Making alvo binary\n",
    "    cleveland.alvo = map(a -> a == 0 ? 0 : 1, cleveland.alvo)\n",
    "\n",
    "    return cleveland\n",
    "end"
   ]
  },
  {
   "cell_type": "markdown",
   "metadata": {},
   "source": [
    "# Categorical Data"
   ]
  },
  {
   "cell_type": "code",
   "execution_count": 4,
   "metadata": {},
   "outputs": [
    {
     "data": {
      "text/plain": [
       "PlotCategoricalAttributes (generic function with 1 method)"
      ]
     },
     "execution_count": 4,
     "metadata": {},
     "output_type": "execute_result"
    }
   ],
   "source": [
    "function show_categorical(array::Array{<:Number, 1}, types::Array{<:Number, 1}, labels::Array{<:String, 1}, title::String; legend = :right)\n",
    "\n",
    "    tempProportion = zeros(length(types))\n",
    "    totalProportion = length(array)\n",
    "    for i = 1:length(types)\n",
    "        tempProportion[i] = length(filter(a -> a == types[i] , array)) / totalProportion\n",
    "        labels[i] *= \" $(round(tempProportion[i] * 100, digits=2))%\"\n",
    "    end\n",
    "    return pie(labels, tempProportion; title=title, legend = legend)\n",
    "\n",
    "end\n",
    "\n",
    "function PlotCategoricalAttributes(cleveland::DataFrame, path::String)    \n",
    "    # SEX\n",
    "    h1 = show_categorical(cleveland.sex, [0, 1], [\"Women\", \"Men\"], \"Sex Proportion in Dataset\")\n",
    "    \n",
    "    # CP\n",
    "    h2 = show_categorical(cleveland.cp, [1, 2, 3, 4], [\"Typical Angina\", \"Atypical Angina\", \"Non-anginal Pain\", \"Asymptomatic\"], \"Chest Pain Type\"; legend=:left)\n",
    "      \n",
    "    # FBS\n",
    "    h3 = show_categorical(cleveland.fbs, [0, 1], [\"False\", \"True\"], \"Fasting Blood Sugar > 120 mg/dl\")\n",
    "    \n",
    "    # restecg\n",
    "    h4 = show_categorical(cleveland.restecg, [0, 1, 2], [\"Normal\", \"Abnormality\", \"Left Ventricular Hypertrophy\"], \" Resting Electrocardiographic Results\"; legend=:left)\n",
    "    \n",
    "    # exang\n",
    "    h5 = show_categorical(cleveland.exang, [0, 1], [\"False\", \"True\"], \"Exercise Induced Angina\")\n",
    "    \n",
    "    # slope\n",
    "    h6 = show_categorical(cleveland.slope, [1, 2, 3], [\"Upsloping\", \"Flat\", \"Downsloping\"], \"Slope\"; legend=:left)\n",
    "    \n",
    "    # thal\n",
    "    h7 = show_categorical(cleveland.thal, [3, 6, 7], [\"Normal\", \"Fixed Defect\", \"Reversable Defect\"], \"Thal\")\n",
    "    \n",
    "    # alvo\n",
    "    h8 = show_categorical(cleveland.alvo, [0, 1], [\"False\", \"True\"], \"diagnosis of heart disease\", legend=:left)\n",
    "    \n",
    "    png( plot(h1, h2, h3, h4, h5, h6, h7, h8, layout=(4,2), size=(500 * 2 + 1000, 500 * 4)), path)\n",
    "    \n",
    "end"
   ]
  },
  {
   "cell_type": "markdown",
   "metadata": {},
   "source": [
    "# Numerical Data"
   ]
  },
  {
   "cell_type": "code",
   "execution_count": 5,
   "metadata": {},
   "outputs": [
    {
     "data": {
      "text/plain": [
       "PlotNumericalAttributes (generic function with 1 method)"
      ]
     },
     "execution_count": 5,
     "metadata": {},
     "output_type": "execute_result"
    }
   ],
   "source": [
    "function PlotNumericalAttributes(cleveland::DataFrame, path::String)\n",
    "    h1 = histogram(cleveland.age, title=\"Range of age\", labels=\"Age\")\n",
    "    h2 = histogram(cleveland.trestbps, title=\"Range of trestbps\", labels=\"trestbps\")\n",
    "    h3 = histogram(cleveland.chol, title=\"Range of chol\", labels=\"chol\")\n",
    "    h4 = histogram(cleveland.thalach, title=\"Range of thalach\", labels=\"thalach\")\n",
    "    h5 = histogram(cleveland.oldpeak, title=\"Range of oldpeak\", labels=\"oldpeak\")\n",
    "    h6 = histogram(cleveland.ca, title=\"Range of ca\", labels=\"ca\")\n",
    "    \n",
    "    png( plot(h1, h2, h3, h4, h5, h6, layout=(3, 2), size=(500 * 2, 500 * 3)), path)\n",
    "end"
   ]
  },
  {
   "cell_type": "markdown",
   "metadata": {},
   "source": [
    "# Scatter"
   ]
  },
  {
   "cell_type": "code",
   "execution_count": 6,
   "metadata": {},
   "outputs": [
    {
     "data": {
      "text/plain": [
       "ScatterCleveland (generic function with 1 method)"
      ]
     },
     "execution_count": 6,
     "metadata": {},
     "output_type": "execute_result"
    }
   ],
   "source": [
    "function ScatterCleveland(cleveland::DataFrame, path::String)\n",
    "    # SPLIT\n",
    "    cleveland_1 = filter(row -> row.alvo == 1, cleveland)\n",
    "    cleveland_0 = filter(row -> row.alvo != 1, cleveland)\n",
    "        \n",
    "    # SCATTER\n",
    "    \n",
    "    # AGE PER Y\n",
    "    h2 = plot(sort(cleveland_1.age), sort(cleveland_1.chol), seriestype=:scatter, labels=\"Sick\", xlabel = \"Age\", ylabel = \"Chol\", legend=:left)\n",
    "    plot!(sort(cleveland_0.age), sort(cleveland_0.chol), seriestype=:scatter, labels=\"Helf\")\n",
    "    \n",
    "    h3 = plot(sort(cleveland_1.age), sort(cleveland_1.thalach), seriestype=:scatter, labels=\"Sick\", xlabel = \"Age\", ylabel = \"Thalach\", legend=:left)\n",
    "    plot!(sort(cleveland_0.age), sort(cleveland_0.thalach), seriestype=:scatter, labels=\"Dboa\")\n",
    "    \n",
    "    h4 = plot(sort(cleveland_1.age), sort(cleveland_1.oldpeak), seriestype=:scatter, labels=\"Sick\", xlabel = \"Age\", ylabel = \"Oldpeak\", legend=:left)\n",
    "    plot!(sort(cleveland_0.age), sort(cleveland_0.oldpeak), seriestype=:scatter, labels=\"Dboa\")\n",
    "    \n",
    "    h5 = plot(sort(cleveland_1.oldpeak), sort(cleveland_1.thalach), seriestype=:scatter, labels=\"Sick\", xlabel = \"Oldpeak\", ylabel = \"thalach\")\n",
    "    plot!(sort(cleveland_0.oldpeak), sort(cleveland_0.thalach), seriestype=:scatter, labels=\"Dboa\", xlabel = \"Oldpeak\", ylabel = \"thalach\")\n",
    "    \n",
    "    png( plot(h2, h3, h4, h5, layout=(2, 2), size=(500 * 2 + 200, 500 * 3)), path)\n",
    "end"
   ]
  },
  {
   "cell_type": "markdown",
   "metadata": {},
   "source": [
    "# Tests"
   ]
  },
  {
   "cell_type": "code",
   "execution_count": 8,
   "metadata": {},
   "outputs": [],
   "source": [
    "input_clvnd = \"C:/Users/GT/Desktop/Grupo Pesquisa/Lista 2-Exercícios ML/processed.cleveland.data\"\n",
    "\n",
    "cleveland = GetCleveland(input_clvnd)\n",
    "# ALL DATA\n",
    "\n",
    "# Plot Categorical\n",
    "PlotCategoricalAttributes(cleveland, \"Categorical.png\")\n",
    "\n",
    "# Plot Numerical\n",
    "PlotNumericalAttributes(cleveland, \"Numerical.png\")\n",
    "\n",
    "# Scatter\n",
    "ScatterCleveland(cleveland, \"Scatter.png\")"
   ]
  },
  {
   "cell_type": "code",
   "execution_count": 9,
   "metadata": {},
   "outputs": [
    {
     "data": {
      "text/html": [
       "<table class=\"data-frame\"><thead><tr><th></th><th>variable</th><th>mean</th><th>min</th><th>median</th><th>max</th><th>nunique</th><th>nmissing</th><th>eltype</th></tr><tr><th></th><th>Symbol</th><th>Abstrac…</th><th>Real</th><th>Float64</th><th>Real</th><th>Nothing</th><th>Nothing</th><th>DataType</th></tr></thead><tbody><p>14 rows × 8 columns</p><tr><th>1</th><td>age</td><td>54.5135</td><td>29.0</td><td>56.0</td><td>77.0</td><td></td><td></td><td>Float64</td></tr><tr><th>2</th><td>sex</td><td>0.675676</td><td>0.0</td><td>1.0</td><td>1.0</td><td></td><td></td><td>Float64</td></tr><tr><th>3</th><td>cp</td><td>3.16554</td><td>1.0</td><td>3.0</td><td>4.0</td><td></td><td></td><td>Float64</td></tr><tr><th>4</th><td>trestbps</td><td>131.649</td><td>94.0</td><td>130.0</td><td>200.0</td><td></td><td></td><td>Float64</td></tr><tr><th>5</th><td>chol</td><td>247.399</td><td>126.0</td><td>243.0</td><td>564.0</td><td></td><td></td><td>Float64</td></tr><tr><th>6</th><td>fbs</td><td>0.141892</td><td>0.0</td><td>0.0</td><td>1.0</td><td></td><td></td><td>Float64</td></tr><tr><th>7</th><td>restecg</td><td>0.993243</td><td>0.0</td><td>1.0</td><td>2.0</td><td></td><td></td><td>Float64</td></tr><tr><th>8</th><td>thalach</td><td>149.598</td><td>71.0</td><td>153.0</td><td>202.0</td><td></td><td></td><td>Float64</td></tr><tr><th>9</th><td>exang</td><td>0.327703</td><td>0.0</td><td>0.0</td><td>1.0</td><td></td><td></td><td>Float64</td></tr><tr><th>10</th><td>oldpeak</td><td>1.05135</td><td>0.0</td><td>0.8</td><td>6.2</td><td></td><td></td><td>Float64</td></tr><tr><th>11</th><td>slope</td><td>1.59797</td><td>1.0</td><td>2.0</td><td>3.0</td><td></td><td></td><td>Float64</td></tr><tr><th>12</th><td>ca</td><td>0.679</td><td>0.0</td><td>0.0</td><td>3.0</td><td></td><td></td><td>Float16</td></tr><tr><th>13</th><td>thal</td><td>4.727</td><td>3.0</td><td>3.0</td><td>7.0</td><td></td><td></td><td>Float16</td></tr><tr><th>14</th><td>alvo</td><td>0.462838</td><td>0</td><td>0.0</td><td>1</td><td></td><td></td><td>Int64</td></tr></tbody></table>"
      ],
      "text/latex": [
       "\\begin{tabular}{r|cccccccc}\n",
       "\t& variable & mean & min & median & max & nunique & nmissing & eltype\\\\\n",
       "\t\\hline\n",
       "\t& Symbol & Abstrac… & Real & Float64 & Real & Nothing & Nothing & DataType\\\\\n",
       "\t\\hline\n",
       "\t1 & age & 54.5135 & 29.0 & 56.0 & 77.0 &  &  & Float64 \\\\\n",
       "\t2 & sex & 0.675676 & 0.0 & 1.0 & 1.0 &  &  & Float64 \\\\\n",
       "\t3 & cp & 3.16554 & 1.0 & 3.0 & 4.0 &  &  & Float64 \\\\\n",
       "\t4 & trestbps & 131.649 & 94.0 & 130.0 & 200.0 &  &  & Float64 \\\\\n",
       "\t5 & chol & 247.399 & 126.0 & 243.0 & 564.0 &  &  & Float64 \\\\\n",
       "\t6 & fbs & 0.141892 & 0.0 & 0.0 & 1.0 &  &  & Float64 \\\\\n",
       "\t7 & restecg & 0.993243 & 0.0 & 1.0 & 2.0 &  &  & Float64 \\\\\n",
       "\t8 & thalach & 149.598 & 71.0 & 153.0 & 202.0 &  &  & Float64 \\\\\n",
       "\t9 & exang & 0.327703 & 0.0 & 0.0 & 1.0 &  &  & Float64 \\\\\n",
       "\t10 & oldpeak & 1.05135 & 0.0 & 0.8 & 6.2 &  &  & Float64 \\\\\n",
       "\t11 & slope & 1.59797 & 1.0 & 2.0 & 3.0 &  &  & Float64 \\\\\n",
       "\t12 & ca & 0.679 & 0.0 & 0.0 & 3.0 &  &  & Float16 \\\\\n",
       "\t13 & thal & 4.727 & 3.0 & 3.0 & 7.0 &  &  & Float16 \\\\\n",
       "\t14 & alvo & 0.462838 & 0 & 0.0 & 1 &  &  & Int64 \\\\\n",
       "\\end{tabular}\n"
      ],
      "text/plain": [
       "14×8 DataFrame. Omitted printing of 1 columns\n",
       "│ Row │ variable │ mean     │ min   │ median  │ max   │ nunique │ nmissing │\n",
       "│     │ \u001b[90mSymbol\u001b[39m   │ \u001b[90mAbstrac…\u001b[39m │ \u001b[90mReal\u001b[39m  │ \u001b[90mFloat64\u001b[39m │ \u001b[90mReal\u001b[39m  │ \u001b[90mNothing\u001b[39m │ \u001b[90mNothing\u001b[39m  │\n",
       "├─────┼──────────┼──────────┼───────┼─────────┼───────┼─────────┼──────────┤\n",
       "│ 1   │ age      │ 54.5135  │ 29.0  │ 56.0    │ 77.0  │         │          │\n",
       "│ 2   │ sex      │ 0.675676 │ 0.0   │ 1.0     │ 1.0   │         │          │\n",
       "│ 3   │ cp       │ 3.16554  │ 1.0   │ 3.0     │ 4.0   │         │          │\n",
       "│ 4   │ trestbps │ 131.649  │ 94.0  │ 130.0   │ 200.0 │         │          │\n",
       "│ 5   │ chol     │ 247.399  │ 126.0 │ 243.0   │ 564.0 │         │          │\n",
       "│ 6   │ fbs      │ 0.141892 │ 0.0   │ 0.0     │ 1.0   │         │          │\n",
       "│ 7   │ restecg  │ 0.993243 │ 0.0   │ 1.0     │ 2.0   │         │          │\n",
       "│ 8   │ thalach  │ 149.598  │ 71.0  │ 153.0   │ 202.0 │         │          │\n",
       "│ 9   │ exang    │ 0.327703 │ 0.0   │ 0.0     │ 1.0   │         │          │\n",
       "│ 10  │ oldpeak  │ 1.05135  │ 0.0   │ 0.8     │ 6.2   │         │          │\n",
       "│ 11  │ slope    │ 1.59797  │ 1.0   │ 2.0     │ 3.0   │         │          │\n",
       "│ 12  │ ca       │ 0.679    │ 0.0   │ 0.0     │ 3.0   │         │          │\n",
       "│ 13  │ thal     │ 4.727    │ 3.0   │ 3.0     │ 7.0   │         │          │\n",
       "│ 14  │ alvo     │ 0.462838 │ 0     │ 0.0     │ 1     │         │          │"
      ]
     },
     "execution_count": 9,
     "metadata": {},
     "output_type": "execute_result"
    }
   ],
   "source": [
    "# Describing\n",
    "describe(cleveland)"
   ]
  },
  {
   "cell_type": "code",
   "execution_count": null,
   "metadata": {},
   "outputs": [],
   "source": []
  },
  {
   "cell_type": "code",
   "execution_count": null,
   "metadata": {},
   "outputs": [],
   "source": []
  }
 ],
 "metadata": {
  "kernelspec": {
   "display_name": "Julia 1.4.2",
   "language": "julia",
   "name": "julia-1.4"
  },
  "language_info": {
   "file_extension": ".jl",
   "mimetype": "application/julia",
   "name": "julia",
   "version": "1.4.2"
  }
 },
 "nbformat": 4,
 "nbformat_minor": 4
}
